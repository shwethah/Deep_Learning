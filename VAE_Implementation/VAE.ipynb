{
 "cells": [
  {
   "cell_type": "code",
   "execution_count": 43,
   "metadata": {
    "collapsed": false
   },
   "outputs": [
   ],
   "source": [
    "import os\n",
    "import torch\n",
    "import torch.utils.data\n",
    "from torch import nn, optim\n",
    "from torch.autograd import Variable\n",
    "from torch.nn import functional as F\n",
    "from torchvision import datasets, transforms\n",
    "from torchvision.utils import save_image\n"
   ]
  },
  {
   "cell_type": "code",
   "execution_count": 44,
   "metadata": {
    "collapsed": false
   },
   "outputs": [
   ],
   "source": [
    "#Initialize the variables\n",
    "SEED = 1\n",
    "BATCH_SIZE = 128\n",
    "LOG_INTERVAL = 100\n",
    "EPOCHS = 10\n",
    "\n",
    "#Autoencoder bottleneck of VAE, this is 20\n",
    "ZDIMS = 20\n",
    "\n",
    "# MNIST dataset is downloaded on to required location\n",
    "os.chdir(\"/home/CS/mnist\")\n",
    "\n",
    "#utilize cuda if available, if not use cpu\n",
    "device = torch.device('cuda' if torch.cuda.is_available() else 'cpu')"
   ]
  },
  {
   "cell_type": "code",
   "execution_count": 45,
   "metadata": {
    "collapsed": false
   },
   "outputs": [
    {
     "data": {
      "text/plain": [
       "<torch._C.Generator at 0x7f1dcc0f2ed0>"
      ]
     },
     "execution_count": 45,
     "metadata": {
     },
     "output_type": "execute_result"
    }
   ],
   "source": [
    "torch.manual_seed(SEED)"
   ]
  },
  {
   "cell_type": "code",
   "execution_count": 46,
   "metadata": {
    "collapsed": false
   },
   "outputs": [
   ],
   "source": [
    "# Download or load downloaded MNIST dataset shuffle data at every epoch for training dataset\n",
    "train_loader = torch.utils.data.DataLoader(\n",
    "    datasets.MNIST('data', train=True, download=True,\n",
    "                   transform=transforms.ToTensor()),\n",
    "    batch_size=BATCH_SIZE, shuffle=True, num_workers = 4)\n",
    "\n",
    "# Download or load downloaded MNIST dataset shuffle data at every epoch for test dataset\n",
    "test_loader = torch.utils.data.DataLoader(\n",
    "    datasets.MNIST('data', train=False, transform=transforms.ToTensor()),\n",
    "    batch_size=BATCH_SIZE, shuffle=True, num_workers = 4)\n"
   ]
  },
  {
   "cell_type": "code",
   "execution_count": 47,
   "metadata": {
    "collapsed": false
   },
   "outputs": [
   ],
   "source": [
    "class VAE(nn.Module):\n",
    "    def __init__(self):\n",
    "        super(VAE, self).__init__()\n",
    "\n",
    "        # ENCODER\n",
    "        # 28 x 28 pixels = 784 input pixels, 400 outputs\n",
    "        self.fc1 = nn.Linear(784, 400)\n",
    "        # ReLU from 400 to 400: max(0, x)\n",
    "        self.relu = nn.ReLU()\n",
    "        self.fc21 = nn.Linear(400, ZDIMS)  # mu \n",
    "        self.fc22 = nn.Linear(400, ZDIMS)  # logvariance\n",
    "        # bottlenecks to ZDIMS: 20\n",
    "\n",
    "        # DECODER\n",
    "        # from bottleneck to hidden 400: (20,400)\n",
    "        self.fc3 = nn.Linear(ZDIMS, 400)\n",
    "        # from hidden 400 to 784 outputs\n",
    "        self.fc4 = nn.Linear(400, 784)\n",
    "        self.sigmoid = nn.Sigmoid()\n",
    "\n",
    "    def encode(self, x: Variable) -> (Variable, Variable):\n",
    "        \"\"\"\n",
    "        Input vector x -> fully connected 1 -> ReLU -> (fully connected 21, fully connected 22)\n",
    "\n",
    "        Input Parameter:\n",
    "        ----------\n",
    "        x : [128, 784] matrix; 128 digits of 28x28 pixels each\n",
    "\n",
    "        Returns:\n",
    "        --------\n",
    "\n",
    "        (mu, logvar) : ZDIMS mean and variance units for each one for each latent dimension\n",
    "\n",
    "        \"\"\"\n",
    "\n",
    "        # h1 is [128, 400]\n",
    "        h1 = self.relu(self.fc1(x))\n",
    "        return self.fc21(h1), self.fc22(h1)\n",
    "\n",
    "    def reparameterize(self, mu: Variable, logvar: Variable) -> Variable:\n",
    "        \"\"\"\n",
    "        REPARAMETERIZATION TECHNIQUE:\n",
    "        Parameters\n",
    "        ----------\n",
    "        mu : [128, ZDIMS] mean matrix\n",
    "        logvar : [128, ZDIMS] variance matrix\n",
    "\n",
    "        Returns\n",
    "        -------\n",
    "        During training random sample from the learned ZDIMS-dimensional normal distribution; during inference its mean.\n",
    "\n",
    "        \"\"\"\n",
    "\n",
    "        if self.training:\n",
    "            # multiply log variance with 0.5, then in-place exponent yielding the standard deviation\n",
    "            std = logvar.mul(0.5).exp_()\n",
    "            # eps is  [128, ZDIMS] with all elements  picked from mean 0 and std dev 1: normal distribution\n",
    "            eps = Variable(std.data.new(std.size()).normal_())\n",
    "            # return the sample from normal distribution with standard deviation (std) and mean (mu)\n",
    "            # by multiplying mean 0, and stddev 1 \n",
    "            return eps.mul(std).add_(mu)\n",
    "\n",
    "        else:\n",
    "            # During inference, the mean of the learned distribution for the current input(mu has highest probability from random sample)\n",
    "            return mu\n",
    "\n",
    "    def decode(self, z: Variable) -> Variable:\n",
    "        h3 = self.relu(self.fc3(z))\n",
    "        return self.sigmoid(self.fc4(h3))\n",
    "\n",
    "    def forward(self, x: Variable) -> (Variable, Variable, Variable):\n",
    "        mu, logvar = self.encode(x.view(-1, 784))\n",
    "        z = self.reparameterize(mu, logvar)\n",
    "        return self.decode(z), mu, logvar\n",
    "\n"
   ]
  },
  {
   "cell_type": "code",
   "execution_count": 48,
   "metadata": {
    "collapsed": false
   },
   "outputs": [
    {
     "name": "stdout",
     "output_type": "stream",
     "text": [
      "VAE(\n",
      "  (fc1): Linear(in_features=784, out_features=400, bias=True)\n",
      "  (relu): ReLU()\n",
      "  (fc21): Linear(in_features=400, out_features=20, bias=True)\n",
      "  (fc22): Linear(in_features=400, out_features=20, bias=True)\n",
      "  (fc3): Linear(in_features=20, out_features=400, bias=True)\n",
      "  (fc4): Linear(in_features=400, out_features=784, bias=True)\n",
      "  (sigmoid): Sigmoid()\n",
      ")\n"
     ]
    }
   ],
   "source": [
    "model = VAE()\n",
    "model = model.to(device)\n",
    "print(model)"
   ]
  },
  {
   "cell_type": "code",
   "execution_count": 49,
   "metadata": {
    "collapsed": false
   },
   "outputs": [
   ],
   "source": [
    "def loss_function(recon_x, x, mu, logvar) -> Variable:\n",
    "    BCE = F.binary_cross_entropy(recon_x, x.view(-1, 784))\n",
    "    # KLD is Kullback–Leibler divergence\n",
    "    # D_{KL} = 0.5 * sum(1 + log(sigma^2) - mu^2 - sigma^2)\n",
    "    KLD = -0.5 * torch.sum(1 + logvar - mu.pow(2) - logvar.exp())\n",
    "    # Normalise by same number of elements as in reconstruction\n",
    "    KLD /= BATCH_SIZE * 784\n",
    "\n",
    "    # BCE loss: make our reconstruction as accurate as possible\n",
    "    # KLD loss: push the distributions as close as possible to unit Gaussian\n",
    "    return BCE + KLD"
   ]
  },
  {
   "cell_type": "code",
   "execution_count": 50,
   "metadata": {
    "collapsed": false
   },
   "outputs": [
   ],
   "source": [
    "# Optimize the parameteres of the model using Adam optimizer with learning rate set to 1e-3\n",
    "optimizer = optim.Adam(model.parameters(), lr=1e-3)\n"
   ]
  },
  {
   "cell_type": "code",
   "execution_count": 51,
   "metadata": {
    "collapsed": false
   },
   "outputs": [
   ],
   "source": [
    "def train(epoch):\n",
    "    model.train()\n",
    "    train_loss = 0\n",
    "\n",
    "    # each `data` is of BATCH_SIZE samples and has shape [128, 1, 28, 28]\n",
    "    for batch_idx, (data, _) in enumerate(train_loader):\n",
    "        data = Variable(data).to(device)\n",
    "        optimizer.zero_grad()\n",
    "\n",
    "        # push whole batch of data through VAE.forward() to get recon_loss\n",
    "        recon_batch, mu, logvar = model(data)\n",
    "        # calculate loss\n",
    "        loss = loss_function(recon_batch, data, mu, logvar)\n",
    "        # calculate the gradient of the loss\n",
    "        loss.backward()\n",
    "        train_loss += loss.data[0]\n",
    "        optimizer.step()\n",
    "        if batch_idx % LOG_INTERVAL == 0:\n",
    "            print('Train Epoch: {} [{}/{} ({:.0f}%)]\\tLoss: {:.6f}'.format(\n",
    "                epoch, batch_idx * len(data), len(train_loader.dataset),\n",
    "                100. * batch_idx / len(train_loader),\n",
    "                loss.data[0] / len(data)))\n",
    "\n",
    "    print('====> Epoch: {} Average loss: {:.4f}'.format(\n",
    "          epoch, train_loss / len(train_loader.dataset)))\n",
    "\n",
    "\n",
    "def test(epoch):\n",
    "    model.eval()\n",
    "    test_loss = 0\n",
    "\n",
    "    # each data is of BATCH_SIZE (default 128) samples\n",
    "    for i, (data, _) in enumerate(test_loader):\n",
    "        data = data.to(device)\n",
    "\n",
    "        # Here, volatile=True, so no autograd at all required\n",
    "        data = Variable(data, volatile=True)\n",
    "        recon_batch, mu, logvar = model(data)\n",
    "        test_loss += loss_function(recon_batch, data, mu, logvar).data[0]\n",
    "        if i == 0:\n",
    "            n = min(data.size(0), 8)\n",
    "            # for the first 128 batch of the epoch, show the first 8 input digits with reconstructed image\n",
    "            comparison = torch.cat([data[:n],\n",
    "                                  recon_batch.view(BATCH_SIZE, 1, 28, 28)[:n]])\n",
    "            save_image(comparison.data.cpu(),\n",
    "                     '/home/CS/results/reconstruction_' + str(epoch) + '.png', nrow=n)\n",
    "\n",
    "    test_loss /= len(test_loader.dataset)\n",
    "    print('====> Test set loss: {:.4f}'.format(test_loss))"
   ]
  },
  {
   "cell_type": "code",
   "execution_count": 52,
   "metadata": {
    "collapsed": false
   },
   "outputs": [
    {
     "name": "stderr",
     "output_type": "stream",
     "text": [
      "/home/CS/sh0143/.conda/envs/Shwetha/lib/python3.6/site-packages/ipykernel_launcher.py:18: UserWarning: invalid index of a 0-dim tensor. This will be an error in PyTorch 0.5. Use tensor.item() to convert a 0-dim tensor to a Python number\n",
      "/home/CS/sh0143/.conda/envs/Shwetha/lib/python3.6/site-packages/ipykernel_launcher.py:24: UserWarning: invalid index of a 0-dim tensor. This will be an error in PyTorch 0.5. Use tensor.item() to convert a 0-dim tensor to a Python number\n"
     ]
    },
    {
     "name": "stdout",
     "output_type": "stream",
     "text": [
      "Train Epoch: 1 [0/60000 (0%)]\tLoss: 0.005489\n",
      "Train Epoch: 1 [12800/60000 (21%)]\tLoss: 0.001833\n",
      "Train Epoch: 1 [25600/60000 (43%)]\tLoss: 0.001468\n",
      "Train Epoch: 1 [38400/60000 (64%)]\tLoss: 0.001422\n",
      "Train Epoch: 1 [51200/60000 (85%)]\tLoss: 0.001307\n",
      "====> Epoch: 1 Average loss: 0.0016\n"
     ]
    },
    {
     "name": "stderr",
     "output_type": "stream",
     "text": [
      "/home/CS/sh0143/.conda/envs/Shwetha/lib/python3.6/site-packages/ipykernel_launcher.py:40: UserWarning: volatile was removed and now has no effect. Use `with torch.no_grad():` instead.\n",
      "/home/CS/sh0143/.conda/envs/Shwetha/lib/python3.6/site-packages/ipykernel_launcher.py:42: UserWarning: invalid index of a 0-dim tensor. This will be an error in PyTorch 0.5. Use tensor.item() to convert a 0-dim tensor to a Python number\n"
     ]
    },
    {
     "name": "stdout",
     "output_type": "stream",
     "text": [
      "====> Test set loss: 0.0012\n",
      "Train Epoch: 2 [0/60000 (0%)]\tLoss: 0.001238\n",
      "Train Epoch: 2 [12800/60000 (21%)]\tLoss: 0.001176\n",
      "Train Epoch: 2 [25600/60000 (43%)]\tLoss: 0.001183\n",
      "Train Epoch: 2 [38400/60000 (64%)]\tLoss: 0.001215\n",
      "Train Epoch: 2 [51200/60000 (85%)]\tLoss: 0.001216\n",
      "====> Epoch: 2 Average loss: 0.0012\n",
      "====> Test set loss: 0.0011\n",
      "Train Epoch: 3 [0/60000 (0%)]\tLoss: 0.001139\n",
      "Train Epoch: 3 [12800/60000 (21%)]\tLoss: 0.001120\n",
      "Train Epoch: 3 [25600/60000 (43%)]\tLoss: 0.001114\n",
      "Train Epoch: 3 [38400/60000 (64%)]\tLoss: 0.001139\n",
      "Train Epoch: 3 [51200/60000 (85%)]\tLoss: 0.001145\n",
      "====> Epoch: 3 Average loss: 0.0011\n",
      "====> Test set loss: 0.0010\n",
      "Train Epoch: 4 [0/60000 (0%)]\tLoss: 0.001133\n",
      "Train Epoch: 4 [12800/60000 (21%)]\tLoss: 0.001106\n",
      "Train Epoch: 4 [25600/60000 (43%)]\tLoss: 0.001137\n",
      "Train Epoch: 4 [38400/60000 (64%)]\tLoss: 0.001085\n",
      "Train Epoch: 4 [51200/60000 (85%)]\tLoss: 0.001142\n",
      "====> Epoch: 4 Average loss: 0.0011\n",
      "====> Test set loss: 0.0010\n",
      "Train Epoch: 5 [0/60000 (0%)]\tLoss: 0.001078\n",
      "Train Epoch: 5 [12800/60000 (21%)]\tLoss: 0.001155\n",
      "Train Epoch: 5 [25600/60000 (43%)]\tLoss: 0.001094\n",
      "Train Epoch: 5 [38400/60000 (64%)]\tLoss: 0.001098\n",
      "Train Epoch: 5 [51200/60000 (85%)]\tLoss: 0.001088\n",
      "====> Epoch: 5 Average loss: 0.0011\n",
      "====> Test set loss: 0.0010\n",
      "Train Epoch: 6 [0/60000 (0%)]\tLoss: 0.001075\n",
      "Train Epoch: 6 [12800/60000 (21%)]\tLoss: 0.001058\n",
      "Train Epoch: 6 [25600/60000 (43%)]\tLoss: 0.001084\n",
      "Train Epoch: 6 [38400/60000 (64%)]\tLoss: 0.001106\n",
      "Train Epoch: 6 [51200/60000 (85%)]\tLoss: 0.001089\n",
      "====> Epoch: 6 Average loss: 0.0011\n",
      "====> Test set loss: 0.0010\n",
      "Train Epoch: 7 [0/60000 (0%)]\tLoss: 0.001069\n",
      "Train Epoch: 7 [12800/60000 (21%)]\tLoss: 0.001089\n",
      "Train Epoch: 7 [25600/60000 (43%)]\tLoss: 0.001099\n",
      "Train Epoch: 7 [38400/60000 (64%)]\tLoss: 0.001042\n",
      "Train Epoch: 7 [51200/60000 (85%)]\tLoss: 0.001102\n",
      "====> Epoch: 7 Average loss: 0.0011\n",
      "====> Test set loss: 0.0010\n",
      "Train Epoch: 8 [0/60000 (0%)]\tLoss: 0.001093\n",
      "Train Epoch: 8 [12800/60000 (21%)]\tLoss: 0.001097\n",
      "Train Epoch: 8 [25600/60000 (43%)]\tLoss: 0.001013\n",
      "Train Epoch: 8 [38400/60000 (64%)]\tLoss: 0.001061\n",
      "Train Epoch: 8 [51200/60000 (85%)]\tLoss: 0.001003\n",
      "====> Epoch: 8 Average loss: 0.0011\n",
      "====> Test set loss: 0.0010\n",
      "Train Epoch: 9 [0/60000 (0%)]\tLoss: 0.001029\n",
      "Train Epoch: 9 [12800/60000 (21%)]\tLoss: 0.001104\n",
      "Train Epoch: 9 [25600/60000 (43%)]\tLoss: 0.001052\n",
      "Train Epoch: 9 [38400/60000 (64%)]\tLoss: 0.001049\n",
      "Train Epoch: 9 [51200/60000 (85%)]\tLoss: 0.001071\n",
      "====> Epoch: 9 Average loss: 0.0011\n",
      "====> Test set loss: 0.0010\n",
      "Train Epoch: 10 [0/60000 (0%)]\tLoss: 0.001073\n",
      "Train Epoch: 10 [12800/60000 (21%)]\tLoss: 0.001087\n",
      "Train Epoch: 10 [25600/60000 (43%)]\tLoss: 0.001069\n",
      "Train Epoch: 10 [38400/60000 (64%)]\tLoss: 0.001036\n",
      "Train Epoch: 10 [51200/60000 (85%)]\tLoss: 0.001078\n",
      "====> Epoch: 10 Average loss: 0.0011\n",
      "====> Test set loss: 0.0010\n"
     ]
    }
   ],
   "source": [
    "for epoch in range(1, EPOCHS + 1):\n",
    "    train(epoch)\n",
    "    test(epoch)\n",
    "\n",
    "    # 64 sets of random ZDIMS-float vectors\n",
    "    # digits in latent space\n",
    "    sample = Variable(torch.randn(64, ZDIMS)).to(device)\n",
    "    sample = model.decode(sample).cpu()\n",
    "\n",
    "    # save out as an 8x8 matrix of MNIST digits to visualize the latent space\n",
    "    save_image(sample.data.view(64, 1, 28, 28),\n",
    "               '/home/CS/results/sample_' + str(epoch) + '.png')"
   ]
  },
  {
   "cell_type": "code",
   "execution_count": 0,
   "metadata": {
    "collapsed": false
   },
   "outputs": [
   ],
   "source": [
   ]
  },
  {
   "cell_type": "code",
   "execution_count": 0,
   "metadata": {
    "collapsed": false
   },
   "outputs": [
   ],
   "source": [
   ]
  },
  {
   "cell_type": "code",
   "execution_count": 0,
   "metadata": {
    "collapsed": false
   },
   "outputs": [
   ],
   "source": [
   ]
  }
 ],
 "metadata": {
  "kernelspec": {
   "display_name": "Python 3 (system-wide)",
   "language": "python",
   "metadata": {
    "cocalc": {
     "description": "Python 3 programming language",
     "priority": 100,
     "url": "https://www.python.org/"
    }
   },
   "name": "python3"
  },
  "language_info": {
   "codemirror_mode": {
    "name": "ipython",
    "version": 3
   },
   "file_extension": ".py",
   "mimetype": "text/x-python",
   "name": "python",
   "nbconvert_exporter": "python",
   "pygments_lexer": "ipython3",
   "version": "3.6.9"
  }
 },
 "nbformat": 4,
 "nbformat_minor": 4
}